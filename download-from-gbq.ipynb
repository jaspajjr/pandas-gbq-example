{
 "cells": [
  {
   "cell_type": "code",
   "execution_count": 7,
   "metadata": {},
   "outputs": [],
   "source": [
    "import pandas as pd\n",
    "from google.oauth2 import service_account"
   ]
  },
  {
   "cell_type": "code",
   "execution_count": 4,
   "metadata": {},
   "outputs": [],
   "source": [
    "baseball_query = \"\"\"\n",
    "SELECT \n",
    "  gameId\n",
    "  , attendance\n",
    "  , duration\n",
    "FROM `bigquery-public-data.baseball.games_wide`\n",
    "LIMIT 100\n",
    "\"\"\""
   ]
  },
  {
   "cell_type": "code",
   "execution_count": 8,
   "metadata": {},
   "outputs": [],
   "source": [
    "credentials = service_account.Credentials.from_service_account_file('./private-key.json')"
   ]
  },
  {
   "cell_type": "code",
   "execution_count": 10,
   "metadata": {},
   "outputs": [
    {
     "name": "stderr",
     "output_type": "stream",
     "text": [
      "/home/jasper/working/github/blog/pandas-gbq-example/.venv/lib/python3.7/site-packages/pandas_gbq/gbq.py:550: UserWarning: A progress bar was requested, but there was an error loading the tqdm library. Please install tqdm to use the progress bar functionality.\n",
      "  progress_bar_type=progress_bar_type,\n"
     ]
    },
    {
     "name": "stdout",
     "output_type": "stream",
     "text": [
      "<class 'pandas.core.frame.DataFrame'>\n",
      "RangeIndex: 100 entries, 0 to 99\n",
      "Data columns (total 3 columns):\n",
      "gameId        100 non-null object\n",
      "attendance    100 non-null int64\n",
      "duration      100 non-null object\n",
      "dtypes: int64(1), object(2)\n",
      "memory usage: 2.5+ KB\n",
      "None\n"
     ]
    },
    {
     "data": {
      "text/html": [
       "<div>\n",
       "<style scoped>\n",
       "    .dataframe tbody tr th:only-of-type {\n",
       "        vertical-align: middle;\n",
       "    }\n",
       "\n",
       "    .dataframe tbody tr th {\n",
       "        vertical-align: top;\n",
       "    }\n",
       "\n",
       "    .dataframe thead th {\n",
       "        text-align: right;\n",
       "    }\n",
       "</style>\n",
       "<table border=\"1\" class=\"dataframe\">\n",
       "  <thead>\n",
       "    <tr style=\"text-align: right;\">\n",
       "      <th></th>\n",
       "      <th>gameId</th>\n",
       "      <th>attendance</th>\n",
       "      <th>duration</th>\n",
       "    </tr>\n",
       "  </thead>\n",
       "  <tbody>\n",
       "    <tr>\n",
       "      <th>0</th>\n",
       "      <td>dc42dfe7-d6dd-4831-a9ad-c1dcfc8f62af</td>\n",
       "      <td>34890</td>\n",
       "      <td>3:19</td>\n",
       "    </tr>\n",
       "    <tr>\n",
       "      <th>1</th>\n",
       "      <td>dc42dfe7-d6dd-4831-a9ad-c1dcfc8f62af</td>\n",
       "      <td>34890</td>\n",
       "      <td>3:19</td>\n",
       "    </tr>\n",
       "    <tr>\n",
       "      <th>2</th>\n",
       "      <td>dc42dfe7-d6dd-4831-a9ad-c1dcfc8f62af</td>\n",
       "      <td>34890</td>\n",
       "      <td>3:19</td>\n",
       "    </tr>\n",
       "    <tr>\n",
       "      <th>3</th>\n",
       "      <td>dc42dfe7-d6dd-4831-a9ad-c1dcfc8f62af</td>\n",
       "      <td>34890</td>\n",
       "      <td>3:19</td>\n",
       "    </tr>\n",
       "    <tr>\n",
       "      <th>4</th>\n",
       "      <td>dc42dfe7-d6dd-4831-a9ad-c1dcfc8f62af</td>\n",
       "      <td>34890</td>\n",
       "      <td>3:19</td>\n",
       "    </tr>\n",
       "  </tbody>\n",
       "</table>\n",
       "</div>"
      ],
      "text/plain": [
       "                                 gameId  attendance duration\n",
       "0  dc42dfe7-d6dd-4831-a9ad-c1dcfc8f62af       34890     3:19\n",
       "1  dc42dfe7-d6dd-4831-a9ad-c1dcfc8f62af       34890     3:19\n",
       "2  dc42dfe7-d6dd-4831-a9ad-c1dcfc8f62af       34890     3:19\n",
       "3  dc42dfe7-d6dd-4831-a9ad-c1dcfc8f62af       34890     3:19\n",
       "4  dc42dfe7-d6dd-4831-a9ad-c1dcfc8f62af       34890     3:19"
      ]
     },
     "execution_count": 10,
     "metadata": {},
     "output_type": "execute_result"
    }
   ],
   "source": [
    "df = pd.read_gbq(\n",
    "    query=baseball_query,\n",
    "    project_id='pandas-gbq-example-project',\n",
    "    credentials=credentials)\n",
    "\n",
    "print(df.info())\n",
    "\n",
    "df.head()"
   ]
  }
 ],
 "metadata": {
  "kernelspec": {
   "display_name": "Python 3",
   "language": "python",
   "name": "python3"
  },
  "language_info": {
   "codemirror_mode": {
    "name": "ipython",
    "version": 3
   },
   "file_extension": ".py",
   "mimetype": "text/x-python",
   "name": "python",
   "nbconvert_exporter": "python",
   "pygments_lexer": "ipython3",
   "version": "3.7.5"
  }
 },
 "nbformat": 4,
 "nbformat_minor": 4
}
